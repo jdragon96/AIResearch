{
 "cells": [
  {
   "cell_type": "code",
   "execution_count": 4,
   "id": "58208e1b",
   "metadata": {},
   "outputs": [
    {
     "name": "stdout",
     "output_type": "stream",
     "text": [
      "2.6.0+cu124\n"
     ]
    }
   ],
   "source": [
    "import torch\n",
    "import numpy as np\n",
    "import pandas as pd\n",
    "import matplotlib.pyplot as plt\n",
    "print(torch.__version__)"
   ]
  },
  {
   "cell_type": "markdown",
   "id": "1dfdcf71",
   "metadata": {},
   "source": [
    "## 텐서 제어하기\n",
    "\n",
    "### 텐서 생성하기\n",
    "\n",
    "- PyTorch 텐서는 `torch.tensor()`를 활용하여 생성한다.\n",
    "- https://pytorch.org/docs/stable/tensors.html"
   ]
  },
  {
   "cell_type": "code",
   "execution_count": 11,
   "id": "e44541e8",
   "metadata": {},
   "outputs": [
    {
     "name": "stdout",
     "output_type": "stream",
     "text": [
      "값 : 7, 실제 내부 값 : 7\n",
      "원본 타입 : <class 'torch.Tensor'>, 값 타입 : <class 'int'>\n",
      "차원 : 0\n"
     ]
    }
   ],
   "source": [
    "scalar = torch.tensor(7)\n",
    "print(f\"값 : {scalar}, 실제 내부 값 : {scalar.item()}\")\n",
    "print(f\"원본 타입 : {type(scalar)}, 값 타입 : {type(scalar.item())}\")\n",
    "print(f\"차원 : {scalar.ndim}\")"
   ]
  },
  {
   "cell_type": "code",
   "execution_count": 20,
   "id": "7b63f7ca",
   "metadata": {},
   "outputs": [
    {
     "name": "stdout",
     "output_type": "stream",
     "text": [
      "데이터 차원 : 1, 데이터 형태 : torch.Size([2])\n"
     ]
    }
   ],
   "source": [
    "vector = torch.tensor([7,7])\n",
    "print(f\"데이터 차원 : {vector.ndim}, 데이터 형태 : {vector.shape}\")"
   ]
  },
  {
   "cell_type": "code",
   "execution_count": 21,
   "id": "2ac65825",
   "metadata": {},
   "outputs": [
    {
     "name": "stdout",
     "output_type": "stream",
     "text": [
      "데이터 차원 : 2, 데이터 형태 : torch.Size([2, 2])\n"
     ]
    }
   ],
   "source": [
    "matrix = torch.tensor([[1,5],[5,1]])\n",
    "print(f\"데이터 차원 : {matrix.ndim}, 데이터 형태 : {matrix.shape}\")"
   ]
  },
  {
   "cell_type": "code",
   "execution_count": 24,
   "id": "d94090eb",
   "metadata": {},
   "outputs": [
    {
     "name": "stdout",
     "output_type": "stream",
     "text": [
      "데이터 차원 : 3, 데이터 형태 : torch.Size([1, 3, 3])\n",
      "tensor([[1, 2, 3],\n",
      "        [4, 5, 6],\n",
      "        [7, 8, 9]])\n"
     ]
    }
   ],
   "source": [
    "tensor = torch.tensor([[[1,2,3], [4,5,6], [7,8,9]]])\n",
    "print(f\"데이터 차원 : {tensor.ndim}, 데이터 형태 : {tensor.shape}\")\n",
    "print(tensor[0])"
   ]
  },
  {
   "cell_type": "code",
   "execution_count": 25,
   "id": "289d57d3",
   "metadata": {},
   "outputs": [],
   "source": [
    "# 1:36:40 이어서"
   ]
  },
  {
   "cell_type": "code",
   "execution_count": null,
   "id": "37e946d5",
   "metadata": {},
   "outputs": [],
   "source": []
  }
 ],
 "metadata": {
  "kernelspec": {
   "display_name": "ai",
   "language": "python",
   "name": "python3"
  },
  "language_info": {
   "codemirror_mode": {
    "name": "ipython",
    "version": 3
   },
   "file_extension": ".py",
   "mimetype": "text/x-python",
   "name": "python",
   "nbconvert_exporter": "python",
   "pygments_lexer": "ipython3",
   "version": "3.12.9"
  }
 },
 "nbformat": 4,
 "nbformat_minor": 5
}
