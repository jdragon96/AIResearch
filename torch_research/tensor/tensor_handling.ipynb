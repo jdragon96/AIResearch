{
 "cells": [
  {
   "cell_type": "code",
   "execution_count": 2,
   "id": "58208e1b",
   "metadata": {},
   "outputs": [],
   "source": [
    "import torch\n",
    "import numpy as np\n",
    "import pandas as pd\n",
    "import matplotlib.pyplot as plt"
   ]
  },
  {
   "cell_type": "markdown",
   "id": "1dfdcf71",
   "metadata": {},
   "source": [
    "## 텐서 제어하기\n",
    "\n",
    "### 텐서 생성하기\n",
    "\n",
    "- PyTorch 텐서는 `torch.tensor()`를 활용하여 생성한다.\n",
    "- https://pytorch.org/docs/stable/tensors.html\n",
    "\n",
    "### 텐서의 종류\n",
    "\n",
    "|이름|정의|차원|표기법|\n",
    "|:--------:|:--------:|:--------:|:--------:|\n",
    "| Scalar | 단일 숫자|0|a|\n",
    "| Vector | 방향이 포함된 숫자 | 1 | y |\n",
    "| Matrix | 2차원 숫자 배열 | 2 | Q |\n",
    "| Tensor | N-차원의 숫자 배열 | 어떤 숫자든 나올 수 있음 | X |\n",
    "\n",
    "### 텐서와 이미지\n",
    "- shape : (channel, height, wdith)"
   ]
  },
  {
   "cell_type": "code",
   "execution_count": null,
   "id": "e44541e8",
   "metadata": {},
   "outputs": [
    {
     "name": "stdout",
     "output_type": "stream",
     "text": [
      "[스칼라] 차원 : 0, 형상 : torch.Size([])\n",
      "[벡터] 차원 : 1, 형상 : torch.Size([2])\n",
      "[행렬] 차원 : 2, 형상 : torch.Size([2, 2])\n",
      "[텐서] 차원 : 3, 형상 : torch.Size([1, 3, 3])\n"
     ]
    }
   ],
   "source": [
    "# 1. 스칼라 \n",
    "scalar = torch.tensor(7)\n",
    "# 2. 벡터\n",
    "vector = torch.tensor([7,7])\n",
    "# 3. 행렬\n",
    "matrix = torch.tensor([[1,5],[5,1]])\n",
    "# 4. 텐서\n",
    "tensor = torch.tensor([[[1,2,3], [4,5,6], [7,8,9]]])\n",
    "\n",
    "print(f\"[스칼라] 차원 : {scalar.ndim}, 형상 : {scalar.shape}\")\n",
    "print(f\"[벡터] 차원 : {vector.ndim}, 형상 : {vector.shape}\")\n",
    "print(f\"[행렬] 차원 : {matrix.ndim}, 형상 : {matrix.shape}\")\n",
    "print(f\"[텐서] 차원 : {tensor.ndim}, 형상 : {tensor.shape}\")"
   ]
  },
  {
   "cell_type": "markdown",
   "id": "8710b3be",
   "metadata": {},
   "source": [
    "### 랜덤 텐서\n",
    "\n",
    "- 신경망 학습을 하는 수많은 텐서들은 랜덤 텐서값을 초기값으로 사용함"
   ]
  },
  {
   "cell_type": "code",
   "execution_count": 5,
   "id": "289d57d3",
   "metadata": {},
   "outputs": [
    {
     "name": "stdout",
     "output_type": "stream",
     "text": [
      "값 : tensor([[[0.8127, 0.4500],\n",
      "         [0.6004, 0.3446]],\n",
      "\n",
      "        [[0.3192, 0.6401],\n",
      "         [0.5159, 0.8884]]]) / 차원 수 : 3 / 형태 : torch.Size([2, 2, 2])\n"
     ]
    }
   ],
   "source": [
    "# 랜덤 텐서 생성하기\n",
    "random_tensor = torch.rand(size=(2, 2, 2))\n",
    "print(f\"값 : {random_tensor} / 차원 수 : {random_tensor.ndim} / 형태 : {random_tensor.shape}\")"
   ]
  },
  {
   "cell_type": "markdown",
   "id": "00a4893a",
   "metadata": {},
   "source": [
    "### 텐서 초기화\n",
    "\n",
    "- 1 또는 0으로 초기화 하는 방법"
   ]
  },
  {
   "cell_type": "code",
   "execution_count": 17,
   "id": "18b04db1",
   "metadata": {},
   "outputs": [
    {
     "data": {
      "text/plain": [
       "(tensor([[0., 0., 0., 0.],\n",
       "         [0., 0., 0., 0.],\n",
       "         [0., 0., 0., 0.]]),\n",
       " tensor([[1., 1., 1., 1.],\n",
       "         [1., 1., 1., 1.],\n",
       "         [1., 1., 1., 1.]]))"
      ]
     },
     "execution_count": 17,
     "metadata": {},
     "output_type": "execute_result"
    }
   ],
   "source": [
    "zeros = torch.zeros(size=(3,4))\n",
    "ones = torch.ones(size=(3,4))\n",
    "zeros, ones"
   ]
  },
  {
   "cell_type": "markdown",
   "id": "9570ea2f",
   "metadata": {},
   "source": [
    "### 특정 범위의 텐서 생성하기"
   ]
  },
  {
   "cell_type": "code",
   "execution_count": 6,
   "id": "bc456244",
   "metadata": {},
   "outputs": [
    {
     "name": "stdout",
     "output_type": "stream",
     "text": [
      "tensor([1, 3, 5, 7, 9])\n",
      "tensor([ 1,  2,  3,  4,  5,  6,  7,  8,  9, 10])\n"
     ]
    }
   ],
   "source": [
    "print(torch.arange(start=1, end=11, step=2))\n",
    "print(torch.arange(start=1, end=11))"
   ]
  },
  {
   "cell_type": "markdown",
   "id": "c75ef72d",
   "metadata": {},
   "source": [
    "### 기존 텐서의 형태와 같은 또다른 텐서 생성하기"
   ]
  },
  {
   "cell_type": "code",
   "execution_count": 7,
   "id": "a206707d",
   "metadata": {},
   "outputs": [
    {
     "data": {
      "text/plain": [
       "tensor([0, 0, 0, 0, 0, 0, 0, 0, 0, 0])"
      ]
     },
     "execution_count": 7,
     "metadata": {},
     "output_type": "execute_result"
    }
   ],
   "source": [
    "one_to_ten = torch.arange(start=1, end=11)\n",
    "torch.zeros_like(input=one_to_ten)"
   ]
  },
  {
   "cell_type": "markdown",
   "id": "2d1fbbb3",
   "metadata": {},
   "source": [
    "### 텐서 데이터 유형"
   ]
  },
  {
   "cell_type": "code",
   "execution_count": 33,
   "id": "3211d7a0",
   "metadata": {},
   "outputs": [
    {
     "data": {
      "text/plain": [
       "tensor([3., 6., 9.], device='cuda:0', dtype=torch.float64)"
      ]
     },
     "execution_count": 33,
     "metadata": {},
     "output_type": "execute_result"
    }
   ],
   "source": [
    "torch.tensor([3.0, 6.0, 9.0], dtype=torch.float16).dtype\n",
    "torch.tensor([3.0, 6.0, 9.0], dtype=torch.float32).dtype\n",
    "torch.tensor([3.0, 6.0, 9.0], dtype=torch.float64).dtype\n",
    "torch.tensor([3.0, 6.0, 9.0], \n",
    "             dtype=torch.float64,\n",
    "             device=\"cuda\",\n",
    "             requires_grad=False)"
   ]
  },
  {
   "cell_type": "markdown",
   "id": "3dd80b3e",
   "metadata": {},
   "source": [
    "### 텐서 연산법\n",
    "\n",
    "- 덧셈\n",
    "- 뺄셈\n",
    "- 곱셈(element-wise)\n",
    "- 나눗셈\n",
    "- 행렬곱"
   ]
  },
  {
   "cell_type": "code",
   "execution_count": 8,
   "id": "763c559c",
   "metadata": {},
   "outputs": [
    {
     "name": "stdout",
     "output_type": "stream",
     "text": [
      "tensor([[10., 10., 10., 10., 10.],\n",
      "        [10., 10., 10., 10., 10.]])\n",
      "tensor([[11., 11., 11., 11., 11.],\n",
      "        [11., 11., 11., 11., 11.]])\n",
      "tensor([[-9., -9., -9., -9., -9.],\n",
      "        [-9., -9., -9., -9., -9.]])\n",
      "tensor([[0.1000, 0.1000, 0.1000, 0.1000, 0.1000],\n",
      "        [0.1000, 0.1000, 0.1000, 0.1000, 0.1000]])\n",
      "tensor([[11., 11., 11., 11., 11.],\n",
      "        [11., 11., 11., 11., 11.]])\n",
      "tensor([[10., 10., 10., 10., 10.],\n",
      "        [10., 10., 10., 10., 10.]])\n",
      "tensor([[0.1000, 0.1000, 0.1000, 0.1000, 0.1000],\n",
      "        [0.1000, 0.1000, 0.1000, 0.1000, 0.1000]])\n",
      "tensor([[-9., -9., -9., -9., -9.],\n",
      "        [-9., -9., -9., -9., -9.]])\n"
     ]
    }
   ],
   "source": [
    "print(torch.ones(size=[2,5]) * 10)\n",
    "print(torch.ones(size=[2,5]) + 10)\n",
    "print(torch.ones(size=[2,5]) - 10)\n",
    "print(torch.ones(size=[2,5]) / 10)\n",
    "t1 = torch.ones(size=[2,5])\n",
    "print(torch.add(t1, 10))\n",
    "print(torch.mul(t1, 10))\n",
    "print(torch.div(t1, 10))\n",
    "print(torch.sub(t1, 10))"
   ]
  },
  {
   "cell_type": "code",
   "execution_count": 11,
   "id": "e85d0172",
   "metadata": {},
   "outputs": [
    {
     "name": "stdout",
     "output_type": "stream",
     "text": [
      "tensor([[-99., -99.],\n",
      "        [-99., -99.]])\n",
      "tensor([[-99., -99.],\n",
      "        [-99., -99.]])\n",
      "tensor([[-198., -198.],\n",
      "        [-198., -198.]])\n"
     ]
    }
   ],
   "source": [
    "# 1. Element-wise 곱셈 방법\n",
    "t1 = torch.ones(size=[2,2]).add(10)\n",
    "t2 = torch.ones(size=[2,2]).add(-10)\n",
    "print(torch.mul(t1, t2))\n",
    "print(t1 * t2)\n",
    "# 2. 행렬곱\n",
    "print(torch.matmul(t1, t2))"
   ]
  },
  {
   "cell_type": "markdown",
   "id": "3d47379e",
   "metadata": {},
   "source": [
    "### 크기 제어, 병합, 스퀴징\n",
    "\n",
    "- Reshape : 입력 텐서의 크기를 변경\n",
    "- View : 입력 텐서의 형태를 변경. 단, 메모리 구조는 유지\n",
    "- Stacking : 여러 텐서들을 병합\n",
    "- Squeeze : 크기가 1인 차원을 제거\n",
    "- Unsqueeze : 입력 텐서에 1 차원을 추가\n",
    "- Permute : 차원 간 형상을 변경"
   ]
  },
  {
   "cell_type": "code",
   "execution_count": null,
   "id": "f29509f2",
   "metadata": {},
   "outputs": [
    {
     "name": "stdout",
     "output_type": "stream",
     "text": [
      "원본 : torch.Size([2, 4, 1]), Squeeze : torch.Size([2, 4])\n"
     ]
    }
   ],
   "source": [
    "t1 = torch.ones(size=(2,4,1))\n",
    "# 1. Squeeze\n",
    "print(f\"원본 : {t1.shape}, Squeeze : {torch.squeeze(t1).shape}\")\n",
    "# 2. "
   ]
  },
  {
   "cell_type": "code",
   "execution_count": null,
   "id": "5d1567e3",
   "metadata": {},
   "outputs": [],
   "source": [
    "  "
   ]
  }
 ],
 "metadata": {
  "kernelspec": {
   "display_name": "ai",
   "language": "python",
   "name": "python3"
  },
  "language_info": {
   "codemirror_mode": {
    "name": "ipython",
    "version": 3
   },
   "file_extension": ".py",
   "mimetype": "text/x-python",
   "name": "python",
   "nbconvert_exporter": "python",
   "pygments_lexer": "ipython3",
   "version": "3.12.9"
  }
 },
 "nbformat": 4,
 "nbformat_minor": 5
}
