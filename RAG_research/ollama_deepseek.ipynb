{
 "cells": [
  {
   "cell_type": "markdown",
   "id": "4fe1b563",
   "metadata": {},
   "source": [
    "## Ollama + DeepSeek를 활용한 RAG 환경 구성\n",
    "\n",
    "### 1. Ollamam 설치\n",
    "\n",
    "```bash\n",
    "ollama pull deepseek-r1:8b    # LLM 모델\n",
    "ollama pull nomic-embed-text  # Document embedding 모델\n",
    "```"
   ]
  },
  {
   "cell_type": "markdown",
   "id": "1b150ae4",
   "metadata": {},
   "source": [
    "### 2. 라이브러리 설치\n",
    "\n",
    "```bash\n",
    "pip install \"praisonaiagents[knowledge]\" ollama streamlit\n",
    "```"
   ]
  },
  {
   "cell_type": "markdown",
   "id": "57367620",
   "metadata": {},
   "source": [
    "### 3. Vector DB 만들기\n"
   ]
  },
  {
   "cell_type": "code",
   "execution_count": 5,
   "id": "32e1470b",
   "metadata": {},
   "outputs": [],
   "source": [
    "import os\n",
    "from typing import Iterator\n",
    "from langchain.text_splitter import (\n",
    "    RecursiveCharacterTextSplitter,\n",
    "    MarkdownHeaderTextSplitter,\n",
    ")\n",
    "from langchain_huggingface.embeddings import HuggingFaceEmbeddings\n",
    "from langchain_qdrant import QdrantVectorStore\n",
    "from langchain_community.document_loaders import DirectoryLoader\n",
    "from langchain_core.document_loaders import BaseLoader\n",
    "from langchain_core.documents import Document as LCDocument\n",
    "from langchain_docling import DoclingLoader\n",
    "from docling.chunking import HybridChunker\n",
    "from langchain_docling.loader import ExportType\n",
    "from langchain_ollama import OllamaLLM"
   ]
  },
  {
   "cell_type": "code",
   "execution_count": 6,
   "id": "6bb227f1",
   "metadata": {},
   "outputs": [],
   "source": [
    "qdrant_url = \"http://localhost:6333\"\n",
    "EMBED_MODEL_ID = \"sentence-transformers/all-MiniLM-L6-v2\"\n",
    "EXPORT_TYPE = ExportType.DOC_CHUNKS\n",
    "FILE_PATH = \"./data/DeepSeek_R1.pdf\"\n",
    "LLM_MODEL = \"deepseek-r1:latest\""
   ]
  },
  {
   "cell_type": "code",
   "execution_count": 3,
   "id": "6f1a64f7",
   "metadata": {},
   "outputs": [],
   "source": [
    "loader = DoclingLoader(\n",
    "    file_path=FILE_PATH,\n",
    "    export_type=EXPORT_TYPE,\n",
    "    chunker=HybridChunker(tokenizer=EMBED_MODEL_ID),\n",
    ")"
   ]
  },
  {
   "cell_type": "code",
   "execution_count": 4,
   "id": "8af4bf88",
   "metadata": {},
   "outputs": [
    {
     "name": "stderr",
     "output_type": "stream",
     "text": [
      "Token indices sequence length is longer than the specified maximum sequence length for this model (964 > 512). Running this sequence through the model will result in indexing errors\n"
     ]
    }
   ],
   "source": [
    "docling_documents = loader.load()"
   ]
  },
  {
   "cell_type": "code",
   "execution_count": 10,
   "id": "3902fb70",
   "metadata": {},
   "outputs": [],
   "source": [
    "if EXPORT_TYPE == ExportType.DOC_CHUNKS:\n",
    "    splits = docling_documents\n",
    "elif EXPORT_TYPE == ExportType.MARKDOWN:\n",
    "    splitter = MarkdownHeaderTextSplitter(\n",
    "        headers_to_split_on=[\n",
    "            (\"#\", \"Header_1\"),\n",
    "            (\"##\", \"Header_2\"),\n",
    "            (\"###\", \"Header_3\"),\n",
    "        ],\n",
    "    )\n",
    "    splits = [\n",
    "        split\n",
    "        for doc in docling_documents\n",
    "        for split in splitter.split_text(doc.page_content)\n",
    "    ]\n",
    "else:\n",
    "    raise ValueError(f\"Unexpected export type: {EXPORT_TYPE}\")"
   ]
  },
  {
   "cell_type": "code",
   "execution_count": 12,
   "id": "ac5c3211",
   "metadata": {},
   "outputs": [],
   "source": [
    "with open(\"data/output_docling.md\", \"a\", encoding=\"utf-8\") as f:  # Open the file in append mode ('a')\n",
    "    for doc in docling_documents:\n",
    "        f.write(doc.page_content + \"\\n\")"
   ]
  },
  {
   "cell_type": "code",
   "execution_count": 14,
   "id": "a82f701b",
   "metadata": {},
   "outputs": [],
   "source": [
    "embedding = HuggingFaceEmbeddings(model_name=EMBED_MODEL_ID)\n",
    "vectorstore = QdrantVectorStore.from_documents(\n",
    "    documents=splits,\n",
    "    embedding=embedding,\n",
    "    url=qdrant_url,\n",
    "    collection_name=\"rag\",\n",
    ")"
   ]
  },
  {
   "cell_type": "markdown",
   "id": "cbe7e826",
   "metadata": {},
   "source": [
    "### 4. 프롬프트 실행시키기"
   ]
  },
  {
   "cell_type": "code",
   "execution_count": 7,
   "id": "731b6e1d",
   "metadata": {},
   "outputs": [],
   "source": [
    "llm = OllamaLLM(\n",
    "    model=LLM_MODEL\n",
    ")"
   ]
  },
  {
   "cell_type": "code",
   "execution_count": 13,
   "id": "c1ef0341",
   "metadata": {},
   "outputs": [
    {
     "data": {
      "text/plain": [
       "'<think>\\ncapabilities, I can access information from my training data which includes text from books, websites, and articles. However, I do not have access to proprietary closed-source AI models or personal data. For detailed model details, please visit the official AI Model Card or contact the model builder directly.\\n</think>\\n\\n이 Answer를 formulize한 한국어로 제공드리겠습니다:\\n\\n```\\ncapabilities, Tôi는 훈련 데이터에서 text 기반의 정보만을アクセス할 수 있습니다. 그러나 이는我个人 data나 geschlossenen source AI model의 접근 권리를갖지 않습니다. model 상세 정보에 대해 더 자세한 Information을 구하기 위해는 Formal InformationCard를 방문해 주세요. 아니면 model.builder에게 directly contact를 해 주세요.\\n```\\n\\n이 Answer는 Korean로 번역되었고, technical detail은 English로 제공되었습니다.'"
      ]
     },
     "execution_count": 13,
     "metadata": {},
     "output_type": "execute_result"
    }
   ],
   "source": [
    "from langchain_huggingface.embeddings import HuggingFaceEmbeddings\n",
    "from langchain_qdrant import QdrantVectorStore\n",
    "from langchain.prompts import ChatPromptTemplate\n",
    "from langchain.schema.runnable import Runnable, RunnablePassthrough, RunnableConfig\n",
    "from langchain.schema import StrOutputParser\n",
    "\n",
    "template = \"\"\"너는 친절하고 정확한 AI 비서야.\n",
    "다음 정보를 참고해서 질문에 대답해줘:\n",
    "\n",
    "{context}\n",
    "\n",
    "질문: {question}\n",
    "\n",
    "답변은 한국어로 해줘.\n",
    "\"\"\"\n",
    "prompt = ChatPromptTemplate.from_template(template)\n",
    "# chain 을 생성합니다.\n",
    "chain = prompt | llm\n",
    "retriever = vectorstore.as_retriever()\n",
    "chain.invoke({\"context\": retriever, \"question\": \"너는 어떤 딥러닝 모델이니?\"})"
   ]
  },
  {
   "cell_type": "code",
   "execution_count": null,
   "id": "340c5f1f",
   "metadata": {},
   "outputs": [],
   "source": []
  }
 ],
 "metadata": {
  "kernelspec": {
   "display_name": "ai",
   "language": "python",
   "name": "python3"
  },
  "language_info": {
   "codemirror_mode": {
    "name": "ipython",
    "version": 3
   },
   "file_extension": ".py",
   "mimetype": "text/x-python",
   "name": "python",
   "nbconvert_exporter": "python",
   "pygments_lexer": "ipython3",
   "version": "3.12.9"
  }
 },
 "nbformat": 4,
 "nbformat_minor": 5
}
